{
  "nbformat": 4,
  "nbformat_minor": 0,
  "metadata": {
    "colab": {
      "name": "Question1_solution.ipynb",
      "provenance": []
    },
    "kernelspec": {
      "name": "python3",
      "display_name": "Python 3"
    },
    "language_info": {
      "name": "python"
    }
  },
  "cells": [
    {
      "cell_type": "code",
      "source": [
        "from google.colab import drive\n",
        "drive.mount('/content/drive')"
      ],
      "metadata": {
        "colab": {
          "base_uri": "https://localhost:8080/"
        },
        "id": "q0_5fLw1e_EI",
        "outputId": "c71ce592-01af-4c77-c86e-d632c5a87cc6"
      },
      "execution_count": 1,
      "outputs": [
        {
          "output_type": "stream",
          "name": "stdout",
          "text": [
            "Mounted at /content/drive\n"
          ]
        }
      ]
    },
    {
      "cell_type": "code",
      "source": [
        "import pandas as pd\n",
        "df= pd.read_csv(\"/content/drive/MyDrive/internship-test2-master/input/question-1/main.csv\")\n",
        "df.head(10)"
      ],
      "metadata": {
        "colab": {
          "base_uri": "https://localhost:8080/",
          "height": 363
        },
        "id": "GYUPnWzufHku",
        "outputId": "0a9ca26b-7484-4964-a3c5-219292a3a4c1"
      },
      "execution_count": 13,
      "outputs": [
        {
          "output_type": "execute_result",
          "data": {
            "text/plain": [
              "   product_code product_description product_group  sales_date  price  \\\n",
              "0          1001              tomato     vegetable  2021-11-01   2.99   \n",
              "1          1001              tomato     vegetable  2021-11-02   2.99   \n",
              "2          1001              tomato     vegetable  2021-11-03   2.99   \n",
              "3          1001              tomato     vegetable  2021-11-04   2.99   \n",
              "4          1001              tomato     vegetable  2021-11-05   2.99   \n",
              "5          1001              tomato     vegetable  2021-11-06   2.99   \n",
              "6          1001              tomato     vegetable  2021-11-07   2.99   \n",
              "7          1001              tomato     vegetable  2021-11-08   2.99   \n",
              "8          1001              tomato     vegetable  2021-11-09   2.99   \n",
              "9          1001              tomato     vegetable  2021-11-10   2.99   \n",
              "\n",
              "   sales_quantity unit  \n",
              "0              36   kg  \n",
              "1              23   kg  \n",
              "2              34   kg  \n",
              "3              23   kg  \n",
              "4              34   kg  \n",
              "5              20   kg  \n",
              "6              21   kg  \n",
              "7              20   kg  \n",
              "8              31   kg  \n",
              "9              34   kg  "
            ],
            "text/html": [
              "\n",
              "  <div id=\"df-ac09dead-b255-4934-9199-7fbf3757ffc2\">\n",
              "    <div class=\"colab-df-container\">\n",
              "      <div>\n",
              "<style scoped>\n",
              "    .dataframe tbody tr th:only-of-type {\n",
              "        vertical-align: middle;\n",
              "    }\n",
              "\n",
              "    .dataframe tbody tr th {\n",
              "        vertical-align: top;\n",
              "    }\n",
              "\n",
              "    .dataframe thead th {\n",
              "        text-align: right;\n",
              "    }\n",
              "</style>\n",
              "<table border=\"1\" class=\"dataframe\">\n",
              "  <thead>\n",
              "    <tr style=\"text-align: right;\">\n",
              "      <th></th>\n",
              "      <th>product_code</th>\n",
              "      <th>product_description</th>\n",
              "      <th>product_group</th>\n",
              "      <th>sales_date</th>\n",
              "      <th>price</th>\n",
              "      <th>sales_quantity</th>\n",
              "      <th>unit</th>\n",
              "    </tr>\n",
              "  </thead>\n",
              "  <tbody>\n",
              "    <tr>\n",
              "      <th>0</th>\n",
              "      <td>1001</td>\n",
              "      <td>tomato</td>\n",
              "      <td>vegetable</td>\n",
              "      <td>2021-11-01</td>\n",
              "      <td>2.99</td>\n",
              "      <td>36</td>\n",
              "      <td>kg</td>\n",
              "    </tr>\n",
              "    <tr>\n",
              "      <th>1</th>\n",
              "      <td>1001</td>\n",
              "      <td>tomato</td>\n",
              "      <td>vegetable</td>\n",
              "      <td>2021-11-02</td>\n",
              "      <td>2.99</td>\n",
              "      <td>23</td>\n",
              "      <td>kg</td>\n",
              "    </tr>\n",
              "    <tr>\n",
              "      <th>2</th>\n",
              "      <td>1001</td>\n",
              "      <td>tomato</td>\n",
              "      <td>vegetable</td>\n",
              "      <td>2021-11-03</td>\n",
              "      <td>2.99</td>\n",
              "      <td>34</td>\n",
              "      <td>kg</td>\n",
              "    </tr>\n",
              "    <tr>\n",
              "      <th>3</th>\n",
              "      <td>1001</td>\n",
              "      <td>tomato</td>\n",
              "      <td>vegetable</td>\n",
              "      <td>2021-11-04</td>\n",
              "      <td>2.99</td>\n",
              "      <td>23</td>\n",
              "      <td>kg</td>\n",
              "    </tr>\n",
              "    <tr>\n",
              "      <th>4</th>\n",
              "      <td>1001</td>\n",
              "      <td>tomato</td>\n",
              "      <td>vegetable</td>\n",
              "      <td>2021-11-05</td>\n",
              "      <td>2.99</td>\n",
              "      <td>34</td>\n",
              "      <td>kg</td>\n",
              "    </tr>\n",
              "    <tr>\n",
              "      <th>5</th>\n",
              "      <td>1001</td>\n",
              "      <td>tomato</td>\n",
              "      <td>vegetable</td>\n",
              "      <td>2021-11-06</td>\n",
              "      <td>2.99</td>\n",
              "      <td>20</td>\n",
              "      <td>kg</td>\n",
              "    </tr>\n",
              "    <tr>\n",
              "      <th>6</th>\n",
              "      <td>1001</td>\n",
              "      <td>tomato</td>\n",
              "      <td>vegetable</td>\n",
              "      <td>2021-11-07</td>\n",
              "      <td>2.99</td>\n",
              "      <td>21</td>\n",
              "      <td>kg</td>\n",
              "    </tr>\n",
              "    <tr>\n",
              "      <th>7</th>\n",
              "      <td>1001</td>\n",
              "      <td>tomato</td>\n",
              "      <td>vegetable</td>\n",
              "      <td>2021-11-08</td>\n",
              "      <td>2.99</td>\n",
              "      <td>20</td>\n",
              "      <td>kg</td>\n",
              "    </tr>\n",
              "    <tr>\n",
              "      <th>8</th>\n",
              "      <td>1001</td>\n",
              "      <td>tomato</td>\n",
              "      <td>vegetable</td>\n",
              "      <td>2021-11-09</td>\n",
              "      <td>2.99</td>\n",
              "      <td>31</td>\n",
              "      <td>kg</td>\n",
              "    </tr>\n",
              "    <tr>\n",
              "      <th>9</th>\n",
              "      <td>1001</td>\n",
              "      <td>tomato</td>\n",
              "      <td>vegetable</td>\n",
              "      <td>2021-11-10</td>\n",
              "      <td>2.99</td>\n",
              "      <td>34</td>\n",
              "      <td>kg</td>\n",
              "    </tr>\n",
              "  </tbody>\n",
              "</table>\n",
              "</div>\n",
              "      <button class=\"colab-df-convert\" onclick=\"convertToInteractive('df-ac09dead-b255-4934-9199-7fbf3757ffc2')\"\n",
              "              title=\"Convert this dataframe to an interactive table.\"\n",
              "              style=\"display:none;\">\n",
              "        \n",
              "  <svg xmlns=\"http://www.w3.org/2000/svg\" height=\"24px\"viewBox=\"0 0 24 24\"\n",
              "       width=\"24px\">\n",
              "    <path d=\"M0 0h24v24H0V0z\" fill=\"none\"/>\n",
              "    <path d=\"M18.56 5.44l.94 2.06.94-2.06 2.06-.94-2.06-.94-.94-2.06-.94 2.06-2.06.94zm-11 1L8.5 8.5l.94-2.06 2.06-.94-2.06-.94L8.5 2.5l-.94 2.06-2.06.94zm10 10l.94 2.06.94-2.06 2.06-.94-2.06-.94-.94-2.06-.94 2.06-2.06.94z\"/><path d=\"M17.41 7.96l-1.37-1.37c-.4-.4-.92-.59-1.43-.59-.52 0-1.04.2-1.43.59L10.3 9.45l-7.72 7.72c-.78.78-.78 2.05 0 2.83L4 21.41c.39.39.9.59 1.41.59.51 0 1.02-.2 1.41-.59l7.78-7.78 2.81-2.81c.8-.78.8-2.07 0-2.86zM5.41 20L4 18.59l7.72-7.72 1.47 1.35L5.41 20z\"/>\n",
              "  </svg>\n",
              "      </button>\n",
              "      \n",
              "  <style>\n",
              "    .colab-df-container {\n",
              "      display:flex;\n",
              "      flex-wrap:wrap;\n",
              "      gap: 12px;\n",
              "    }\n",
              "\n",
              "    .colab-df-convert {\n",
              "      background-color: #E8F0FE;\n",
              "      border: none;\n",
              "      border-radius: 50%;\n",
              "      cursor: pointer;\n",
              "      display: none;\n",
              "      fill: #1967D2;\n",
              "      height: 32px;\n",
              "      padding: 0 0 0 0;\n",
              "      width: 32px;\n",
              "    }\n",
              "\n",
              "    .colab-df-convert:hover {\n",
              "      background-color: #E2EBFA;\n",
              "      box-shadow: 0px 1px 2px rgba(60, 64, 67, 0.3), 0px 1px 3px 1px rgba(60, 64, 67, 0.15);\n",
              "      fill: #174EA6;\n",
              "    }\n",
              "\n",
              "    [theme=dark] .colab-df-convert {\n",
              "      background-color: #3B4455;\n",
              "      fill: #D2E3FC;\n",
              "    }\n",
              "\n",
              "    [theme=dark] .colab-df-convert:hover {\n",
              "      background-color: #434B5C;\n",
              "      box-shadow: 0px 1px 3px 1px rgba(0, 0, 0, 0.15);\n",
              "      filter: drop-shadow(0px 1px 2px rgba(0, 0, 0, 0.3));\n",
              "      fill: #FFFFFF;\n",
              "    }\n",
              "  </style>\n",
              "\n",
              "      <script>\n",
              "        const buttonEl =\n",
              "          document.querySelector('#df-ac09dead-b255-4934-9199-7fbf3757ffc2 button.colab-df-convert');\n",
              "        buttonEl.style.display =\n",
              "          google.colab.kernel.accessAllowed ? 'block' : 'none';\n",
              "\n",
              "        async function convertToInteractive(key) {\n",
              "          const element = document.querySelector('#df-ac09dead-b255-4934-9199-7fbf3757ffc2');\n",
              "          const dataTable =\n",
              "            await google.colab.kernel.invokeFunction('convertToInteractive',\n",
              "                                                     [key], {});\n",
              "          if (!dataTable) return;\n",
              "\n",
              "          const docLinkHtml = 'Like what you see? Visit the ' +\n",
              "            '<a target=\"_blank\" href=https://colab.research.google.com/notebooks/data_table.ipynb>data table notebook</a>'\n",
              "            + ' to learn more about interactive tables.';\n",
              "          element.innerHTML = '';\n",
              "          dataTable['output_type'] = 'display_data';\n",
              "          await google.colab.output.renderOutput(dataTable, element);\n",
              "          const docLink = document.createElement('div');\n",
              "          docLink.innerHTML = docLinkHtml;\n",
              "          element.appendChild(docLink);\n",
              "        }\n",
              "      </script>\n",
              "    </div>\n",
              "  </div>\n",
              "  "
            ]
          },
          "metadata": {},
          "execution_count": 13
        }
      ]
    },
    {
      "cell_type": "code",
      "source": [
        "df.isnull().sum()"
      ],
      "metadata": {
        "colab": {
          "base_uri": "https://localhost:8080/"
        },
        "id": "2mPJNFVNgDcB",
        "outputId": "add77f4e-b32d-4d98-be84-ee87822e31bf"
      },
      "execution_count": 14,
      "outputs": [
        {
          "output_type": "execute_result",
          "data": {
            "text/plain": [
              "product_code            0\n",
              "product_description     0\n",
              "product_group           0\n",
              "sales_date              0\n",
              "price                  16\n",
              "sales_quantity          0\n",
              "unit                    0\n",
              "dtype: int64"
            ]
          },
          "metadata": {},
          "execution_count": 14
        }
      ]
    },
    {
      "cell_type": "code",
      "source": [
        "def Fill_price(price_temp):\n",
        "  return df[df['product_description'] == price_temp][\"price\"].mean()"
      ],
      "metadata": {
        "id": "kwznTEMzgYjq"
      },
      "execution_count": 15,
      "outputs": []
    },
    {
      "cell_type": "code",
      "source": [
        "df['price'] = df['product_description'].apply(Fill_price)"
      ],
      "metadata": {
        "id": "SofZhZKcgZml"
      },
      "execution_count": 16,
      "outputs": []
    },
    {
      "cell_type": "code",
      "source": [
        "df.isnull().sum()"
      ],
      "metadata": {
        "colab": {
          "base_uri": "https://localhost:8080/"
        },
        "id": "zrH-wOu7hFOs",
        "outputId": "a666c424-4d5c-4d5f-e95d-7eab50d89f3d"
      },
      "execution_count": 17,
      "outputs": [
        {
          "output_type": "execute_result",
          "data": {
            "text/plain": [
              "product_code           0\n",
              "product_description    0\n",
              "product_group          0\n",
              "sales_date             0\n",
              "price                  0\n",
              "sales_quantity         0\n",
              "unit                   0\n",
              "dtype: int64"
            ]
          },
          "metadata": {},
          "execution_count": 17
        }
      ]
    },
    {
      "cell_type": "code",
      "source": [
        "print(df)"
      ],
      "metadata": {
        "colab": {
          "base_uri": "https://localhost:8080/"
        },
        "id": "rOXE7zW_kpqU",
        "outputId": "6d673f34-d952-4f50-8b98-69f37b56d670"
      },
      "execution_count": 28,
      "outputs": [
        {
          "output_type": "stream",
          "name": "stdout",
          "text": [
            "     product_code product_description product_group  sales_date      price  \\\n",
            "0            1001              tomato     vegetable  2021-11-01   3.121034   \n",
            "1            1001              tomato     vegetable  2021-11-02   3.121034   \n",
            "2            1001              tomato     vegetable  2021-11-03   3.121034   \n",
            "3            1001              tomato     vegetable  2021-11-04   3.121034   \n",
            "4            1001              tomato     vegetable  2021-11-05   3.121034   \n",
            "..            ...                 ...           ...         ...        ...   \n",
            "295          1203         butter-0.25         dairy  2021-11-26  11.400000   \n",
            "296          1203         butter-0.25         dairy  2021-11-27  11.400000   \n",
            "297          1203         butter-0.25         dairy  2021-11-28  11.400000   \n",
            "298          1203         butter-0.25         dairy  2021-11-29  11.400000   \n",
            "299          1203         butter-0.25         dairy  2021-11-30  11.400000   \n",
            "\n",
            "     sales_quantity unit  \n",
            "0                36   kg  \n",
            "1                23   kg  \n",
            "2                34   kg  \n",
            "3                23   kg  \n",
            "4                34   kg  \n",
            "..              ...  ...  \n",
            "295              31  pcs  \n",
            "296              29  pcs  \n",
            "297              37  pcs  \n",
            "298              34  pcs  \n",
            "299              36  pcs  \n",
            "\n",
            "[300 rows x 7 columns]\n"
          ]
        }
      ]
    },
    {
      "cell_type": "code",
      "source": [
        "df.to_csv('/content/drive/MyDrive/internship-test2-master/output/answer-1/output1.csv') "
      ],
      "metadata": {
        "id": "7JpVe_OviRCr"
      },
      "execution_count": 27,
      "outputs": []
    }
  ]
}